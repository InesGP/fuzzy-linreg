{
 "cells": [
  {
   "cell_type": "code",
   "execution_count": 4,
   "id": "ad244042-6cf3-449c-bee8-cced77e8f2b1",
   "metadata": {},
   "outputs": [
    {
     "data": {
      "text/plain": [
       "['sub-0025402',\n",
       " 'sub-0025427',\n",
       " 'sub-0025457',\n",
       " 'sub-0025485',\n",
       " 'sub-0025515',\n",
       " 'sub-0025586',\n",
       " 'sub-0025864',\n",
       " 'sub-0025921',\n",
       " 'sub-0027103',\n",
       " 'sub-0027306']"
      ]
     },
     "execution_count": 4,
     "metadata": {},
     "output_type": "execute_result"
    }
   ],
   "source": [
    "import glob\n",
    "import os\n",
    "\n",
    "subjects = [os.path.basename(x).split('.')[0] for x in glob.glob(os.path.join('results','mca','1','sub-*.mat'))]\n",
    "subjects"
   ]
  },
  {
   "cell_type": "code",
   "execution_count": null,
   "id": "14291336-ea21-4c2d-a633-523df3a39a48",
   "metadata": {},
   "outputs": [],
   "source": []
  },
  {
   "cell_type": "code",
   "execution_count": 18,
   "id": "a0d48cbf-014c-465f-85c0-d42e32059182",
   "metadata": {},
   "outputs": [],
   "source": [
    "import numpy as np\n",
    "import transfo_utils as tu\n",
    "\n",
    "subject = 'sub-0025402'\n",
    "\n",
    "mats = np.array([\n",
    "            np.array([\n",
    "                np.array(tu.compare_transfos(\n",
    "                                        tu.read_transfo(os.path.join('results', 'mca', f'{i}', subject+'.mat')),\n",
    "                                        tu.read_transfo(os.path.join('results', 'mca', f'{j}', subject+'.mat'))\n",
    "                                              )\n",
    "                          )\n",
    "            for i in range(1, 11) for j in range(i+1, 11)])\n",
    "            for subject in subjects])"
   ]
  },
  {
   "cell_type": "code",
   "execution_count": 26,
   "id": "186256e9-c0b2-4fd1-a543-4728ea0e40b0",
   "metadata": {},
   "outputs": [
    {
     "data": {
      "text/plain": [
       "(10, 45, 6)"
      ]
     },
     "execution_count": 26,
     "metadata": {},
     "output_type": "execute_result"
    }
   ],
   "source": [
    "mats.shape"
   ]
  },
  {
   "cell_type": "code",
   "execution_count": 27,
   "id": "698a1626-a83d-4416-b1a7-4fbb9463a7ad",
   "metadata": {},
   "outputs": [
    {
     "data": {
      "text/plain": [
       "(10, 6)"
      ]
     },
     "execution_count": 27,
     "metadata": {},
     "output_type": "execute_result"
    }
   ],
   "source": [
    "np.max(mats, axis=1).shape"
   ]
  },
  {
   "cell_type": "code",
   "execution_count": 36,
   "id": "b85b8c8d-d143-4743-a08d-5f27138fa57a",
   "metadata": {},
   "outputs": [
    {
     "name": "stdout",
     "output_type": "stream",
     "text": [
      "sub-0025402 0.006526213118387858 0.08519096849085983 0.054001318100599605 3.794989561480583e-06 4.8729418960504e-07 8.685183466290613e-08\n",
      "sub-0025427 0.006294680670231756 0.01494831909960137 0.02173149652509121 7.282818379529945e-08 4.324205410498509e-06 2.5895002711222584e-06\n",
      "sub-0025457 0.06538626747579013 0.09844016125116184 0.1271226090327957 8.678074778336803e-06 9.42119317300744e-06 1.2654173805262537e-06\n",
      "sub-0025485 0.024037976913716452 0.04639535499659786 0.0678179684296687 6.232673220663643e-06 1.7796864167359301e-06 9.394126851430285e-07\n",
      "sub-0025515 0.013776529323589415 0.004496881374485895 0.002455745819870181 3.8204339338187435e-07 1.1647422393154839e-07 1.0737768803511127e-07\n",
      "sub-0025586 0.015304356624179505 0.0182236596362646 0.024059523294377883 3.949606092819707e-06 4.1924946748269943e-07 4.59340274858813e-08\n",
      "sub-0025864 0.016544925418665368 0.0009487967311070378 0.0014238209034953542 1.0359916174379281e-07 2.904681322098339e-08 6.875908105595156e-08\n",
      "sub-0025921 0.007232531649817631 0.005115318287398196 0.003348475283710961 2.142144608060308e-07 4.695176981978014e-07 6.205785077927411e-08\n",
      "sub-0027103 0.0 0.0 0.0 0.0 -0.0 0.0\n",
      "sub-0027306 0.0006114539401036664 0.0010179570697044227 0.00040164812372012193 5.2030346657118004e-08 2.226110817763643e-08 1.8901720279546707e-08\n"
     ]
    }
   ],
   "source": [
    "def deg2rad(x):\n",
    "    return x*np.pi/180\n",
    "\n",
    "for i, x in enumerate(np.max(mats, axis=1)):\n",
    "    print(f'{subjects[i]} {x[0]} {x[1]} {x[2]} {deg2rad(x[3])} {deg2rad(x[4])} {deg2rad(x[5])}')"
   ]
  },
  {
   "cell_type": "code",
   "execution_count": null,
   "id": "ec695bc8-f86d-458f-b944-caf8adc36700",
   "metadata": {},
   "outputs": [],
   "source": []
  }
 ],
 "metadata": {
  "kernelspec": {
   "display_name": "Python 3 (ipykernel)",
   "language": "python",
   "name": "python3"
  },
  "language_info": {
   "codemirror_mode": {
    "name": "ipython",
    "version": 3
   },
   "file_extension": ".py",
   "mimetype": "text/x-python",
   "name": "python",
   "nbconvert_exporter": "python",
   "pygments_lexer": "ipython3",
   "version": "3.12.0"
  }
 },
 "nbformat": 4,
 "nbformat_minor": 5
}
